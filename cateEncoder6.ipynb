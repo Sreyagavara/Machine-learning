{
  "nbformat": 4,
  "nbformat_minor": 0,
  "metadata": {
    "colab": {
      "provenance": [],
      "authorship_tag": "ABX9TyO/QGtm7kTethWddHxtBnww",
      "include_colab_link": true
    },
    "kernelspec": {
      "name": "python3",
      "display_name": "Python 3"
    },
    "language_info": {
      "name": "python"
    }
  },
  "cells": [
    {
      "cell_type": "markdown",
      "metadata": {
        "id": "view-in-github",
        "colab_type": "text"
      },
      "source": [
        "<a href=\"https://colab.research.google.com/github/Sreyagavara/Machine-learning/blob/main/cateEncoder6.ipynb\" target=\"_parent\"><img src=\"https://colab.research.google.com/assets/colab-badge.svg\" alt=\"Open In Colab\"/></a>"
      ]
    },
    {
      "cell_type": "code",
      "execution_count": 1,
      "metadata": {
        "colab": {
          "base_uri": "https://localhost:8080/"
        },
        "id": "HxxM2ngNNg5Q",
        "outputId": "38a790cd-5f11-447f-c2d4-152b88d8ee80"
      },
      "outputs": [
        {
          "output_type": "stream",
          "name": "stdout",
          "text": [
            "Original Dataset:\n",
            "   Gender Country Purchased\n",
            "0    Male     USA       Yes\n",
            "1  Female  Canada        No\n",
            "2  Female     USA       Yes\n",
            "3    Male      UK        No\n",
            "4    Male  Canada       Yes\n",
            "\n",
            "Label Encoded Dataset:\n",
            "   Gender Country Purchased  Gender_Encoded  Country_Encoded  \\\n",
            "0    Male     USA       Yes               1                2   \n",
            "1  Female  Canada        No               0                0   \n",
            "2  Female     USA       Yes               0                2   \n",
            "3    Male      UK        No               1                1   \n",
            "4    Male  Canada       Yes               1                0   \n",
            "\n",
            "   Purchased_Encoded  \n",
            "0                  1  \n",
            "1                  0  \n",
            "2                  1  \n",
            "3                  0  \n",
            "4                  1  \n",
            "\n",
            "One-Hot Encoded Dataset:\n",
            "   Gender_Encoded  Country_Encoded  Purchased_Encoded  Gender_Male  \\\n",
            "0               1                2                  1         True   \n",
            "1               0                0                  0        False   \n",
            "2               0                2                  1        False   \n",
            "3               1                1                  0         True   \n",
            "4               1                0                  1         True   \n",
            "\n",
            "   Country_UK  Country_USA  Purchased_Yes  \n",
            "0       False         True           True  \n",
            "1       False        False          False  \n",
            "2       False         True           True  \n",
            "3        True        False          False  \n",
            "4       False        False           True  \n"
          ]
        }
      ],
      "source": [
        "import pandas as pd\n",
        "from sklearn.preprocessing import LabelEncoder\n",
        "\n",
        "# Sample dataset with categorical features\n",
        "data = {\n",
        "    'Gender': ['Male', 'Female', 'Female', 'Male', 'Male'],\n",
        "    'Country': ['USA', 'Canada', 'USA', 'UK', 'Canada'],\n",
        "    'Purchased': ['Yes', 'No', 'Yes', 'No', 'Yes']\n",
        "}\n",
        "df = pd.DataFrame(data)\n",
        "\n",
        "# Display original dataset\n",
        "print(\"Original Dataset:\")\n",
        "print(df)\n",
        "\n",
        "# Categorical Encoding (Label Encoding)\n",
        "label_encoder = LabelEncoder()\n",
        "\n",
        "# Applying label encoding to categorical columns\n",
        "for column in ['Gender', 'Country', 'Purchased']:\n",
        "    df[column + '_Encoded'] = label_encoder.fit_transform(df[column])\n",
        "\n",
        "# One-Hot Encoding\n",
        "one_hot_encoded_df = pd.get_dummies(df, columns=['Gender', 'Country', 'Purchased'], drop_first=True)\n",
        "\n",
        "# Display results\n",
        "print(\"\\nLabel Encoded Dataset:\")\n",
        "print(df)\n",
        "\n",
        "print(\"\\nOne-Hot Encoded Dataset:\")\n",
        "print(one_hot_encoded_df)\n"
      ]
    }
  ]
}