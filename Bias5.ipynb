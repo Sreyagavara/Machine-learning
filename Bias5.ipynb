{
  "nbformat": 4,
  "nbformat_minor": 0,
  "metadata": {
    "colab": {
      "provenance": [],
      "authorship_tag": "ABX9TyOyxM3Y1narM5waouOJlgIk",
      "include_colab_link": true
    },
    "kernelspec": {
      "name": "python3",
      "display_name": "Python 3"
    },
    "language_info": {
      "name": "python"
    }
  },
  "cells": [
    {
      "cell_type": "markdown",
      "metadata": {
        "id": "view-in-github",
        "colab_type": "text"
      },
      "source": [
        "<a href=\"https://colab.research.google.com/github/Sreyagavara/Machine-learning/blob/main/Bias5.ipynb\" target=\"_parent\"><img src=\"https://colab.research.google.com/assets/colab-badge.svg\" alt=\"Open In Colab\"/></a>"
      ]
    },
    {
      "cell_type": "code",
      "source": [
        "import pandas as pd\n",
        "import numpy as np\n",
        "from sklearn.model_selection import train_test_split, cross_val_score\n",
        "from sklearn.linear_model import LinearRegression\n",
        "from sklearn.metrics import mean_squared_error\n",
        "from sklearn.ensemble import RandomForestRegressor\n",
        "\n",
        "# Sample dataset\n",
        "np.random.seed(42)\n",
        "data = {\n",
        "    'Feature1': np.random.rand(100),\n",
        "    'Feature2': np.random.rand(100),\n",
        "    'Target': np.random.rand(100)\n",
        "}\n",
        "df = pd.DataFrame(data)\n",
        "\n",
        "# Removing duplicate rows\n",
        "df = df.drop_duplicates()\n",
        "\n",
        "# Splitting the dataset\n",
        "X = df[['Feature1', 'Feature2']]\n",
        "y = df['Target']\n",
        "X_train, X_test, y_train, y_test = train_test_split(X, y, test_size=0.2, random_state=42)\n",
        "\n",
        "# Model Training\n",
        "lr_model = LinearRegression()\n",
        "lr_model.fit(X_train, y_train)\n",
        "\n",
        "# Predictions\n",
        "predictions = lr_model.predict(X_test)\n",
        "\n",
        "# Calculating Bias and Variance\n",
        "# Bias^2 = (y_true - y_pred)^2\n",
        "bias_squared = np.mean((y_test - predictions) ** 2)\n",
        "\n",
        "# Variance = Variance of model predictions\n",
        "variance = np.var(predictions)\n",
        "\n",
        "# Cross-Validation\n",
        "rf_model = RandomForestRegressor()\n",
        "cv_scores = cross_val_score(rf_model, X, y, cv=5, scoring='r2')\n",
        "\n",
        "# Displaying results\n",
        "print(f'Bias^2: {bias_squared}')\n",
        "print(f'Variance: {variance}')\n",
        "print(f'Cross-Validation R2 Scores: {cv_scores}')\n",
        "print(f'Mean Cross-Validation R2 Score: {cv_scores.mean()}')\n"
      ],
      "metadata": {
        "colab": {
          "base_uri": "https://localhost:8080/"
        },
        "id": "PQd8WhuwNCbH",
        "outputId": "1b1bb08c-7f99-40e5-a248-c6dedf5577b7"
      },
      "execution_count": 2,
      "outputs": [
        {
          "output_type": "stream",
          "name": "stdout",
          "text": [
            "Bias^2: 0.11325498323128799\n",
            "Variance: 0.007303948045179973\n",
            "Cross-Validation R2 Scores: [-0.34686394 -0.42856069 -0.19706559 -1.38439652 -0.45044273]\n",
            "Mean Cross-Validation R2 Score: -0.5614658927942104\n"
          ]
        }
      ]
    }
  ]
}