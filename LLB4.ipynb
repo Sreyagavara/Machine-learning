{
  "nbformat": 4,
  "nbformat_minor": 0,
  "metadata": {
    "colab": {
      "provenance": [],
      "authorship_tag": "ABX9TyMGEFgvT/r2CKRmVDrJ19Mo",
      "include_colab_link": true
    },
    "kernelspec": {
      "name": "python3",
      "display_name": "Python 3"
    },
    "language_info": {
      "name": "python"
    }
  },
  "cells": [
    {
      "cell_type": "markdown",
      "metadata": {
        "id": "view-in-github",
        "colab_type": "text"
      },
      "source": [
        "<a href=\"https://colab.research.google.com/github/Sreyagavara/Machine-learning/blob/main/LLB4.ipynb\" target=\"_parent\"><img src=\"https://colab.research.google.com/assets/colab-badge.svg\" alt=\"Open In Colab\"/></a>"
      ]
    },
    {
      "cell_type": "code",
      "source": [],
      "metadata": {
        "id": "uWFSA0efL61x"
      },
      "execution_count": null,
      "outputs": []
    },
    {
      "cell_type": "code",
      "execution_count": 5,
      "metadata": {
        "colab": {
          "base_uri": "https://localhost:8080/"
        },
        "id": "fO01YUv6K7l0",
        "outputId": "80025de6-79d2-4e40-e3f1-f4e47f2dc8db"
      },
      "outputs": [
        {
          "output_type": "stream",
          "name": "stdout",
          "text": [
            "Accuracy: 100.00%\n",
            "Classification Report:\n",
            "              precision    recall  f1-score   support\n",
            "\n",
            "           0       1.00      1.00      1.00         1\n",
            "           1       1.00      1.00      1.00         1\n",
            "\n",
            "    accuracy                           1.00         2\n",
            "   macro avg       1.00      1.00      1.00         2\n",
            "weighted avg       1.00      1.00      1.00         2\n",
            "\n",
            "Cross-Validation Accuracy Scores: [1.  1.  1.  0.5 1. ]\n",
            "Mean Cross-Validation Accuracy: 90.00%\n"
          ]
        }
      ],
      "source": [
        "import pandas as pd\n",
        "from sklearn.model_selection import train_test_split, StratifiedKFold, cross_val_score\n",
        "from sklearn.linear_model import LogisticRegression\n",
        "from sklearn.metrics import accuracy_score, classification_report\n",
        "\n",
        "# Expanded dataset for better evaluation\n",
        "data = {\n",
        "    'Email Length': [150, 200, 120, 250, 180, 300, 350, 220, 190, 310],\n",
        "    'Keyword Frequency': [5, 2, 8, 3, 7, 4, 6, 1, 9, 5],\n",
        "    'Contains Link': ['Yes', 'No', 'Yes', 'No', 'Yes', 'No', 'Yes', 'No', 'Yes', 'No'],\n",
        "    'Sender': ['A', 'B', 'A', 'C', 'A', 'B', 'C', 'A', 'B', 'C'],\n",
        "    'Spam': [1, 0, 1, 0, 1, 0, 1, 0, 1, 0]  # 1: Spam, 0: Not Spam\n",
        "}\n",
        "\n",
        "# Creating DataFrame\n",
        "df = pd.DataFrame(data)\n",
        "\n",
        "# Encoding categorical variables\n",
        "df['Contains Link'] = df['Contains Link'].map({'Yes': 1, 'No': 0})\n",
        "df = pd.get_dummies(df, columns=['Sender'], drop_first=True)\n",
        "\n",
        "# Features and target variable\n",
        "X = df.drop('Spam', axis=1)\n",
        "y = df['Spam']\n",
        "\n",
        "# Split the dataset\n",
        "X_train, X_test, y_train, y_test = train_test_split(X, y, test_size=0.2, random_state=42, stratify=y)\n",
        "\n",
        "# Logistic Regression Model\n",
        "model = LogisticRegression(max_iter=200)\n",
        "model.fit(X_train, y_train)\n",
        "\n",
        "# Predictions\n",
        "y_pred = model.predict(X_test)\n",
        "\n",
        "# Evaluation Metrics\n",
        "accuracy = accuracy_score(y_test, y_pred)\n",
        "classification_rep = classification_report(y_test, y_pred)\n",
        "\n",
        "# Cross-validation for better evaluation\n",
        "cv = StratifiedKFold(n_splits=5)\n",
        "cv_scores = cross_val_score(model, X, y, cv=cv, scoring='accuracy')\n",
        "\n",
        "# Display the results\n",
        "print(f'Accuracy: {accuracy * 100:.2f}%')\n",
        "print(f'Classification Report:\\n{classification_rep}')\n",
        "print(f'Cross-Validation Accuracy Scores: {cv_scores}')\n",
        "print(f'Mean Cross-Validation Accuracy: {cv_scores.mean() * 100:.2f}%')\n"
      ]
    }
  ]
}